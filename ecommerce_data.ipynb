{
 "cells": [
  {
   "cell_type": "code",
   "execution_count": 1,
   "id": "a0697bc7",
   "metadata": {},
   "outputs": [],
   "source": [
    "import pandas as pd\n",
    "import numpy as np\n",
    "import matplotlib.pyplot as plt\n",
    "import seaborn as sns"
   ]
  },
  {
   "cell_type": "code",
   "execution_count": 76,
   "id": "a27154ce",
   "metadata": {},
   "outputs": [],
   "source": [
    "import warnings\n",
    "warnings.filterwarnings(\"ignore\")"
   ]
  },
  {
   "cell_type": "code",
   "execution_count": 2,
   "id": "fd9a2237",
   "metadata": {},
   "outputs": [
    {
     "data": {
      "text/html": [
       "<div>\n",
       "<style scoped>\n",
       "    .dataframe tbody tr th:only-of-type {\n",
       "        vertical-align: middle;\n",
       "    }\n",
       "\n",
       "    .dataframe tbody tr th {\n",
       "        vertical-align: top;\n",
       "    }\n",
       "\n",
       "    .dataframe thead th {\n",
       "        text-align: right;\n",
       "    }\n",
       "</style>\n",
       "<table border=\"1\" class=\"dataframe\">\n",
       "  <thead>\n",
       "    <tr style=\"text-align: right;\">\n",
       "      <th></th>\n",
       "      <th>CustomerID</th>\n",
       "      <th>Gender</th>\n",
       "      <th>Age</th>\n",
       "      <th>City</th>\n",
       "      <th>MembershipType</th>\n",
       "      <th>TotalSpend</th>\n",
       "      <th>ItemsPurchased</th>\n",
       "      <th>AverageRating</th>\n",
       "      <th>DiscountApplied</th>\n",
       "      <th>DaysSinceLastPurchase</th>\n",
       "      <th>SatisfactionLevel</th>\n",
       "    </tr>\n",
       "  </thead>\n",
       "  <tbody>\n",
       "    <tr>\n",
       "      <th>0</th>\n",
       "      <td>1</td>\n",
       "      <td>Female</td>\n",
       "      <td>39</td>\n",
       "      <td>Brewerfurt</td>\n",
       "      <td>Gold</td>\n",
       "      <td>699.915464</td>\n",
       "      <td>18</td>\n",
       "      <td>3.955039</td>\n",
       "      <td>False</td>\n",
       "      <td>235</td>\n",
       "      <td>Neutral</td>\n",
       "    </tr>\n",
       "    <tr>\n",
       "      <th>1</th>\n",
       "      <td>2</td>\n",
       "      <td>Female</td>\n",
       "      <td>71</td>\n",
       "      <td>Roweport</td>\n",
       "      <td>Gold</td>\n",
       "      <td>2468.772829</td>\n",
       "      <td>14</td>\n",
       "      <td>3.230167</td>\n",
       "      <td>False</td>\n",
       "      <td>179</td>\n",
       "      <td>Unsatisfied</td>\n",
       "    </tr>\n",
       "    <tr>\n",
       "      <th>2</th>\n",
       "      <td>3</td>\n",
       "      <td>Male</td>\n",
       "      <td>25</td>\n",
       "      <td>Osborneland</td>\n",
       "      <td>Gold</td>\n",
       "      <td>4930.286054</td>\n",
       "      <td>15</td>\n",
       "      <td>3.031953</td>\n",
       "      <td>True</td>\n",
       "      <td>92</td>\n",
       "      <td>Neutral</td>\n",
       "    </tr>\n",
       "    <tr>\n",
       "      <th>3</th>\n",
       "      <td>4</td>\n",
       "      <td>Male</td>\n",
       "      <td>60</td>\n",
       "      <td>Kathrynport</td>\n",
       "      <td>Silver</td>\n",
       "      <td>2699.439442</td>\n",
       "      <td>10</td>\n",
       "      <td>4.692113</td>\n",
       "      <td>True</td>\n",
       "      <td>162</td>\n",
       "      <td>Satisfied</td>\n",
       "    </tr>\n",
       "    <tr>\n",
       "      <th>4</th>\n",
       "      <td>5</td>\n",
       "      <td>Female</td>\n",
       "      <td>37</td>\n",
       "      <td>Jessicaborough</td>\n",
       "      <td>Gold</td>\n",
       "      <td>1473.339497</td>\n",
       "      <td>15</td>\n",
       "      <td>2.509883</td>\n",
       "      <td>False</td>\n",
       "      <td>263</td>\n",
       "      <td>Unsatisfied</td>\n",
       "    </tr>\n",
       "  </tbody>\n",
       "</table>\n",
       "</div>"
      ],
      "text/plain": [
       "   CustomerID  Gender  Age            City MembershipType   TotalSpend  \\\n",
       "0           1  Female   39      Brewerfurt           Gold   699.915464   \n",
       "1           2  Female   71        Roweport           Gold  2468.772829   \n",
       "2           3    Male   25     Osborneland           Gold  4930.286054   \n",
       "3           4    Male   60     Kathrynport         Silver  2699.439442   \n",
       "4           5  Female   37  Jessicaborough           Gold  1473.339497   \n",
       "\n",
       "   ItemsPurchased  AverageRating  DiscountApplied  DaysSinceLastPurchase  \\\n",
       "0              18       3.955039            False                    235   \n",
       "1              14       3.230167            False                    179   \n",
       "2              15       3.031953             True                     92   \n",
       "3              10       4.692113             True                    162   \n",
       "4              15       2.509883            False                    263   \n",
       "\n",
       "  SatisfactionLevel  \n",
       "0           Neutral  \n",
       "1       Unsatisfied  \n",
       "2           Neutral  \n",
       "3         Satisfied  \n",
       "4       Unsatisfied  "
      ]
     },
     "execution_count": 2,
     "metadata": {},
     "output_type": "execute_result"
    }
   ],
   "source": [
    "df = pd.read_csv('ecommerce_customer_data.csv')\n",
    "df.head()"
   ]
  },
  {
   "cell_type": "code",
   "execution_count": 3,
   "id": "c19637cd",
   "metadata": {},
   "outputs": [
    {
     "data": {
      "text/plain": [
       "(10000, 11)"
      ]
     },
     "execution_count": 3,
     "metadata": {},
     "output_type": "execute_result"
    }
   ],
   "source": [
    "df.shape"
   ]
  },
  {
   "cell_type": "code",
   "execution_count": 4,
   "id": "f7232107",
   "metadata": {},
   "outputs": [
    {
     "data": {
      "text/plain": [
       "CustomerID                0\n",
       "Gender                    0\n",
       "Age                       0\n",
       "City                      0\n",
       "MembershipType           51\n",
       "TotalSpend               35\n",
       "ItemsPurchased            0\n",
       "AverageRating            20\n",
       "DiscountApplied           0\n",
       "DaysSinceLastPurchase     0\n",
       "SatisfactionLevel         0\n",
       "dtype: int64"
      ]
     },
     "execution_count": 4,
     "metadata": {},
     "output_type": "execute_result"
    }
   ],
   "source": [
    "df.isnull().sum()"
   ]
  },
  {
   "cell_type": "code",
   "execution_count": 5,
   "id": "c3b5151a",
   "metadata": {},
   "outputs": [
    {
     "data": {
      "text/plain": [
       "Index(['CustomerID', 'Gender', 'Age', 'City', 'MembershipType', 'TotalSpend',\n",
       "       'ItemsPurchased', 'AverageRating', 'DiscountApplied',\n",
       "       'DaysSinceLastPurchase', 'SatisfactionLevel'],\n",
       "      dtype='object')"
      ]
     },
     "execution_count": 5,
     "metadata": {},
     "output_type": "execute_result"
    }
   ],
   "source": [
    "df.columns"
   ]
  },
  {
   "cell_type": "code",
   "execution_count": 6,
   "id": "3489f724",
   "metadata": {},
   "outputs": [
    {
     "data": {
      "text/plain": [
       "MembershipType\n",
       "Silver    3379\n",
       "Bronze    3302\n",
       "Gold      3268\n",
       "Name: count, dtype: int64"
      ]
     },
     "execution_count": 6,
     "metadata": {},
     "output_type": "execute_result"
    }
   ],
   "source": [
    "df['MembershipType'].value_counts()"
   ]
  },
  {
   "cell_type": "code",
   "execution_count": 7,
   "id": "408945f0",
   "metadata": {},
   "outputs": [
    {
     "data": {
      "text/plain": [
       "0    Silver\n",
       "Name: MembershipType, dtype: object"
      ]
     },
     "execution_count": 7,
     "metadata": {},
     "output_type": "execute_result"
    }
   ],
   "source": [
    "df['MembershipType'].mode()"
   ]
  },
  {
   "cell_type": "code",
   "execution_count": 8,
   "id": "49fbd5bc",
   "metadata": {},
   "outputs": [],
   "source": [
    "df['MembershipType'] = df['MembershipType'].fillna(df['MembershipType'].mode()[0])"
   ]
  },
  {
   "cell_type": "code",
   "execution_count": 9,
   "id": "b5cca635",
   "metadata": {},
   "outputs": [
    {
     "data": {
      "text/plain": [
       "CustomerID                0\n",
       "Gender                    0\n",
       "Age                       0\n",
       "City                      0\n",
       "MembershipType            0\n",
       "TotalSpend               35\n",
       "ItemsPurchased            0\n",
       "AverageRating            20\n",
       "DiscountApplied           0\n",
       "DaysSinceLastPurchase     0\n",
       "SatisfactionLevel         0\n",
       "dtype: int64"
      ]
     },
     "execution_count": 9,
     "metadata": {},
     "output_type": "execute_result"
    }
   ],
   "source": [
    "df.isnull().sum()"
   ]
  },
  {
   "cell_type": "code",
   "execution_count": 10,
   "id": "a8f044f8",
   "metadata": {},
   "outputs": [
    {
     "data": {
      "text/plain": [
       "count    9965.000000\n",
       "mean     2511.336410\n",
       "std      1435.120438\n",
       "min        50.166967\n",
       "25%      1273.960492\n",
       "50%      2494.046486\n",
       "75%      3785.008344\n",
       "max      4998.839534\n",
       "Name: TotalSpend, dtype: float64"
      ]
     },
     "execution_count": 10,
     "metadata": {},
     "output_type": "execute_result"
    }
   ],
   "source": [
    "df['TotalSpend'].describe()"
   ]
  },
  {
   "cell_type": "code",
   "execution_count": 11,
   "id": "c22f0785",
   "metadata": {},
   "outputs": [
    {
     "data": {
      "text/plain": [
       "2494.046486"
      ]
     },
     "execution_count": 11,
     "metadata": {},
     "output_type": "execute_result"
    }
   ],
   "source": [
    "df['TotalSpend'].median()"
   ]
  },
  {
   "cell_type": "code",
   "execution_count": 12,
   "id": "49a6ae42",
   "metadata": {},
   "outputs": [],
   "source": [
    "df['TotalSpend'] = df['TotalSpend'].fillna(df['TotalSpend'].median())"
   ]
  },
  {
   "cell_type": "code",
   "execution_count": 13,
   "id": "d60298be",
   "metadata": {},
   "outputs": [
    {
     "data": {
      "text/plain": [
       "CustomerID                0\n",
       "Gender                    0\n",
       "Age                       0\n",
       "City                      0\n",
       "MembershipType            0\n",
       "TotalSpend                0\n",
       "ItemsPurchased            0\n",
       "AverageRating            20\n",
       "DiscountApplied           0\n",
       "DaysSinceLastPurchase     0\n",
       "SatisfactionLevel         0\n",
       "dtype: int64"
      ]
     },
     "execution_count": 13,
     "metadata": {},
     "output_type": "execute_result"
    }
   ],
   "source": [
    "df.isnull().sum()"
   ]
  },
  {
   "cell_type": "code",
   "execution_count": 14,
   "id": "ea6640f6",
   "metadata": {},
   "outputs": [
    {
     "data": {
      "text/plain": [
       "count    9980.000000\n",
       "mean        2.995542\n",
       "std         1.153585\n",
       "min         1.000161\n",
       "25%         1.993850\n",
       "50%         3.006083\n",
       "75%         3.993064\n",
       "max         4.999932\n",
       "Name: AverageRating, dtype: float64"
      ]
     },
     "execution_count": 14,
     "metadata": {},
     "output_type": "execute_result"
    }
   ],
   "source": [
    "df['AverageRating'].describe()"
   ]
  },
  {
   "cell_type": "code",
   "execution_count": 15,
   "id": "54c1869c",
   "metadata": {},
   "outputs": [],
   "source": [
    "df['AverageRating'] = df['AverageRating'].fillna(df['AverageRating'].median())"
   ]
  },
  {
   "cell_type": "code",
   "execution_count": 16,
   "id": "ee871d03",
   "metadata": {},
   "outputs": [
    {
     "data": {
      "text/plain": [
       "CustomerID               0\n",
       "Gender                   0\n",
       "Age                      0\n",
       "City                     0\n",
       "MembershipType           0\n",
       "TotalSpend               0\n",
       "ItemsPurchased           0\n",
       "AverageRating            0\n",
       "DiscountApplied          0\n",
       "DaysSinceLastPurchase    0\n",
       "SatisfactionLevel        0\n",
       "dtype: int64"
      ]
     },
     "execution_count": 16,
     "metadata": {},
     "output_type": "execute_result"
    }
   ],
   "source": [
    "df.isnull().sum()"
   ]
  },
  {
   "cell_type": "code",
   "execution_count": 17,
   "id": "57b39dae",
   "metadata": {},
   "outputs": [
    {
     "data": {
      "text/plain": [
       "0"
      ]
     },
     "execution_count": 17,
     "metadata": {},
     "output_type": "execute_result"
    }
   ],
   "source": [
    "df.duplicated().sum()"
   ]
  },
  {
   "cell_type": "code",
   "execution_count": 18,
   "id": "6c4195c4",
   "metadata": {},
   "outputs": [
    {
     "data": {
      "text/plain": [
       "CustomerID                 int64\n",
       "Gender                    object\n",
       "Age                        int64\n",
       "City                      object\n",
       "MembershipType            object\n",
       "TotalSpend               float64\n",
       "ItemsPurchased             int64\n",
       "AverageRating            float64\n",
       "DiscountApplied             bool\n",
       "DaysSinceLastPurchase      int64\n",
       "SatisfactionLevel         object\n",
       "dtype: object"
      ]
     },
     "execution_count": 18,
     "metadata": {},
     "output_type": "execute_result"
    }
   ],
   "source": [
    "df.dtypes"
   ]
  },
  {
   "cell_type": "code",
   "execution_count": 19,
   "id": "fa99c649",
   "metadata": {},
   "outputs": [
    {
     "name": "stdout",
     "output_type": "stream",
     "text": [
      "Index(['CustomerID', 'Age', 'TotalSpend', 'ItemsPurchased', 'AverageRating',\n",
      "       'DiscountApplied', 'DaysSinceLastPurchase'],\n",
      "      dtype='object')\n",
      "Index(['Gender', 'City', 'MembershipType', 'SatisfactionLevel'], dtype='object')\n"
     ]
    }
   ],
   "source": [
    "num_cols = df.dtypes[df.dtypes!='object'].index\n",
    "cat_cols = df.dtypes[df.dtypes=='object'].index\n",
    "print(num_cols)\n",
    "print(cat_cols)"
   ]
  },
  {
   "cell_type": "code",
   "execution_count": 20,
   "id": "74e0c754",
   "metadata": {},
   "outputs": [
    {
     "name": "stdout",
     "output_type": "stream",
     "text": [
      "Gender 2\n",
      "City 7746\n",
      "MembershipType 3\n",
      "SatisfactionLevel 3\n"
     ]
    }
   ],
   "source": [
    "for i in cat_cols:\n",
    "    print(i,df[i].nunique())"
   ]
  },
  {
   "cell_type": "code",
   "execution_count": 21,
   "id": "ba1796b1",
   "metadata": {},
   "outputs": [
    {
     "data": {
      "image/png": "[encoded data removed]",
      "text/plain": [
       "<Figure size 1200x1200 with 3 Axes>"
      ]
     },
     "metadata": {},
     "output_type": "display_data"
    }
   ],
   "source": [
    "cols = ['Gender', 'MembershipType', 'SatisfactionLevel']\n",
    "\n",
    "plt.figure(figsize=(12,12))\n",
    "for i in range(len(cols)):  # i = 0,1,2,3,4\n",
    "    plt.subplot(2,2,i+1)\n",
    "    sns.countplot(y = df[cols[i]])\n",
    "    plt.title(f'Countplot for {cols[i]}')\n",
    "\n",
    "plt.tight_layout()\n",
    "plt.show()"
   ]
  },
  {
   "cell_type": "code",
   "execution_count": 22,
   "id": "f226ca32",
   "metadata": {},
   "outputs": [
    {
     "data": {
      "image/png": "[encoded data removed]",
      "text/plain": [
       "<Figure size 1200x1000 with 2 Axes>"
      ]
     },
     "metadata": {},
     "output_type": "display_data"
    }
   ],
   "source": [
    "cols = ['Gender', 'MembershipType']\n",
    "plt.figure(figsize=(12,10))\n",
    "for i in range(len(cols)):\n",
    "    plt.subplot(2,2,i+1)\n",
    "    sns.countplot(x=df[cols[i]],hue = df['SatisfactionLevel'])\n",
    "    plt.title(f'Countplot for {cols[i]} wrt SatisfactionLevel')\n",
    "plt.show()"
   ]
  },
  {
   "cell_type": "code",
   "execution_count": 23,
   "id": "bf5d6f3d",
   "metadata": {},
   "outputs": [
    {
     "data": {
      "text/plain": [
       "Index(['CustomerID', 'Age', 'TotalSpend', 'ItemsPurchased', 'AverageRating',\n",
       "       'DiscountApplied', 'DaysSinceLastPurchase'],\n",
       "      dtype='object')"
      ]
     },
     "execution_count": 23,
     "metadata": {},
     "output_type": "execute_result"
    }
   ],
   "source": [
    "num_cols"
   ]
  },
  {
   "cell_type": "code",
   "execution_count": 26,
   "id": "0d210da6",
   "metadata": {},
   "outputs": [],
   "source": [
    "df['DiscountApplied'] = df['DiscountApplied'].replace({True:0,False:1})"
   ]
  },
  {
   "cell_type": "code",
   "execution_count": 37,
   "id": "a32d7b55",
   "metadata": {},
   "outputs": [
    {
     "data": {
      "image/png": "[encoded data removed]",
      "text/plain": [
       "<Figure size 1500x1200 with 7 Axes>"
      ]
     },
     "metadata": {},
     "output_type": "display_data"
    }
   ],
   "source": [
    "plt.figure(figsize=(15,12))\n",
    "for i in range(len(num_cols)):\n",
    "    plt.subplot(4,2,i+1)\n",
    "    sns.boxplot(x=df[num_cols[i]])\n",
    "    plt.title(f'Boxplot for {num_cols[i]}')\n",
    "\n",
    "plt.tight_layout()\n",
    "plt.show()"
   ]
  },
  {
   "cell_type": "code",
   "execution_count": 38,
   "id": "bfd1284d",
   "metadata": {},
   "outputs": [
    {
     "data": {
      "text/plain": [
       "Index(['CustomerID', 'Age', 'TotalSpend', 'ItemsPurchased', 'AverageRating',\n",
       "       'DiscountApplied', 'DaysSinceLastPurchase'],\n",
       "      dtype='object')"
      ]
     },
     "execution_count": 38,
     "metadata": {},
     "output_type": "execute_result"
    }
   ],
   "source": [
    "num_cols = df.dtypes[df.dtypes!='object'].index\n",
    "num_cols"
   ]
  },
  {
   "cell_type": "code",
   "execution_count": 40,
   "id": "d65253ab",
   "metadata": {},
   "outputs": [
    {
     "data": {
      "text/html": [
       "<div>\n",
       "<style scoped>\n",
       "    .dataframe tbody tr th:only-of-type {\n",
       "        vertical-align: middle;\n",
       "    }\n",
       "\n",
       "    .dataframe tbody tr th {\n",
       "        vertical-align: top;\n",
       "    }\n",
       "\n",
       "    .dataframe thead th {\n",
       "        text-align: right;\n",
       "    }\n",
       "</style>\n",
       "<table border=\"1\" class=\"dataframe\">\n",
       "  <thead>\n",
       "    <tr style=\"text-align: right;\">\n",
       "      <th></th>\n",
       "      <th>min</th>\n",
       "      <th>1%</th>\n",
       "      <th>2%</th>\n",
       "      <th>5%</th>\n",
       "      <th>50%</th>\n",
       "      <th>95%</th>\n",
       "      <th>97%</th>\n",
       "      <th>98%</th>\n",
       "      <th>99%</th>\n",
       "      <th>max</th>\n",
       "    </tr>\n",
       "  </thead>\n",
       "  <tbody>\n",
       "    <tr>\n",
       "      <th>CustomerID</th>\n",
       "      <td>1.000000</td>\n",
       "      <td>100.990000</td>\n",
       "      <td>200.980000</td>\n",
       "      <td>500.950000</td>\n",
       "      <td>5000.500000</td>\n",
       "      <td>9500.050000</td>\n",
       "      <td>9700.030000</td>\n",
       "      <td>9800.020000</td>\n",
       "      <td>9900.010000</td>\n",
       "      <td>10000.000000</td>\n",
       "    </tr>\n",
       "    <tr>\n",
       "      <th>Age</th>\n",
       "      <td>18.000000</td>\n",
       "      <td>18.000000</td>\n",
       "      <td>19.000000</td>\n",
       "      <td>21.000000</td>\n",
       "      <td>49.000000</td>\n",
       "      <td>77.000000</td>\n",
       "      <td>78.000000</td>\n",
       "      <td>78.000000</td>\n",
       "      <td>79.000000</td>\n",
       "      <td>79.000000</td>\n",
       "    </tr>\n",
       "    <tr>\n",
       "      <th>TotalSpend</th>\n",
       "      <td>50.166967</td>\n",
       "      <td>98.424145</td>\n",
       "      <td>137.449934</td>\n",
       "      <td>271.226221</td>\n",
       "      <td>2494.046486</td>\n",
       "      <td>4738.113606</td>\n",
       "      <td>4846.455419</td>\n",
       "      <td>4888.529391</td>\n",
       "      <td>4945.935355</td>\n",
       "      <td>4998.839534</td>\n",
       "    </tr>\n",
       "    <tr>\n",
       "      <th>ItemsPurchased</th>\n",
       "      <td>1.000000</td>\n",
       "      <td>1.000000</td>\n",
       "      <td>1.000000</td>\n",
       "      <td>1.000000</td>\n",
       "      <td>10.000000</td>\n",
       "      <td>18.000000</td>\n",
       "      <td>19.000000</td>\n",
       "      <td>19.000000</td>\n",
       "      <td>19.000000</td>\n",
       "      <td>19.000000</td>\n",
       "    </tr>\n",
       "    <tr>\n",
       "      <th>AverageRating</th>\n",
       "      <td>1.000161</td>\n",
       "      <td>1.041955</td>\n",
       "      <td>1.082087</td>\n",
       "      <td>1.198841</td>\n",
       "      <td>3.006083</td>\n",
       "      <td>4.794897</td>\n",
       "      <td>4.873359</td>\n",
       "      <td>4.915415</td>\n",
       "      <td>4.957257</td>\n",
       "      <td>4.999932</td>\n",
       "    </tr>\n",
       "    <tr>\n",
       "      <th>DiscountApplied</th>\n",
       "      <td>0.000000</td>\n",
       "      <td>0.000000</td>\n",
       "      <td>0.000000</td>\n",
       "      <td>0.000000</td>\n",
       "      <td>0.000000</td>\n",
       "      <td>1.000000</td>\n",
       "      <td>1.000000</td>\n",
       "      <td>1.000000</td>\n",
       "      <td>1.000000</td>\n",
       "      <td>1.000000</td>\n",
       "    </tr>\n",
       "    <tr>\n",
       "      <th>DaysSinceLastPurchase</th>\n",
       "      <td>1.000000</td>\n",
       "      <td>4.000000</td>\n",
       "      <td>8.000000</td>\n",
       "      <td>17.000000</td>\n",
       "      <td>180.000000</td>\n",
       "      <td>347.000000</td>\n",
       "      <td>354.000000</td>\n",
       "      <td>357.000000</td>\n",
       "      <td>361.000000</td>\n",
       "      <td>364.000000</td>\n",
       "    </tr>\n",
       "  </tbody>\n",
       "</table>\n",
       "</div>"
      ],
      "text/plain": [
       "                             min          1%          2%          5%  \\\n",
       "CustomerID              1.000000  100.990000  200.980000  500.950000   \n",
       "Age                    18.000000   18.000000   19.000000   21.000000   \n",
       "TotalSpend             50.166967   98.424145  137.449934  271.226221   \n",
       "ItemsPurchased          1.000000    1.000000    1.000000    1.000000   \n",
       "AverageRating           1.000161    1.041955    1.082087    1.198841   \n",
       "DiscountApplied         0.000000    0.000000    0.000000    0.000000   \n",
       "DaysSinceLastPurchase   1.000000    4.000000    8.000000   17.000000   \n",
       "\n",
       "                               50%          95%          97%          98%  \\\n",
       "CustomerID             5000.500000  9500.050000  9700.030000  9800.020000   \n",
       "Age                      49.000000    77.000000    78.000000    78.000000   \n",
       "TotalSpend             2494.046486  4738.113606  4846.455419  4888.529391   \n",
       "ItemsPurchased           10.000000    18.000000    19.000000    19.000000   \n",
       "AverageRating             3.006083     4.794897     4.873359     4.915415   \n",
       "DiscountApplied           0.000000     1.000000     1.000000     1.000000   \n",
       "DaysSinceLastPurchase   180.000000   347.000000   354.000000   357.000000   \n",
       "\n",
       "                               99%           max  \n",
       "CustomerID             9900.010000  10000.000000  \n",
       "Age                      79.000000     79.000000  \n",
       "TotalSpend             4945.935355   4998.839534  \n",
       "ItemsPurchased           19.000000     19.000000  \n",
       "AverageRating             4.957257      4.999932  \n",
       "DiscountApplied           1.000000      1.000000  \n",
       "DaysSinceLastPurchase   361.000000    364.000000  "
      ]
     },
     "execution_count": 40,
     "metadata": {},
     "output_type": "execute_result"
    }
   ],
   "source": [
    "a = df[num_cols].describe(percentiles=[0.01,0.02,0.05,0.95,0.97,0.98,0.99]).T\n",
    "a = a.iloc[:,3:]\n",
    "a"
   ]
  },
  {
   "cell_type": "code",
   "execution_count": 39,
   "id": "05217954",
   "metadata": {},
   "outputs": [
    {
     "data": {
      "image/png": "[encoded data removed]",
      "text/plain": [
       "<Figure size 900x900 with 2 Axes>"
      ]
     },
     "metadata": {},
     "output_type": "display_data"
    }
   ],
   "source": [
    "corr = df[num_cols].corr()\n",
    "\n",
    "plt.figure(figsize=(9,9))\n",
    "sns.heatmap(corr,annot=True,cmap='coolwarm')  # annot = Annotation\n",
    "plt.show()"
   ]
  },
  {
   "cell_type": "code",
   "execution_count": 43,
   "id": "6b7be0dd",
   "metadata": {},
   "outputs": [
    {
     "data": {
      "text/plain": [
       "CustomerID                 int64\n",
       "Gender                    object\n",
       "Age                        int64\n",
       "City                      object\n",
       "MembershipType            object\n",
       "TotalSpend               float64\n",
       "ItemsPurchased             int64\n",
       "AverageRating            float64\n",
       "DiscountApplied            int64\n",
       "DaysSinceLastPurchase      int64\n",
       "SatisfactionLevel         object\n",
       "dtype: object"
      ]
     },
     "execution_count": 43,
     "metadata": {},
     "output_type": "execute_result"
    }
   ],
   "source": [
    "df.dtypes"
   ]
  },
  {
   "cell_type": "code",
   "execution_count": 44,
   "id": "f0be1c44",
   "metadata": {},
   "outputs": [
    {
     "data": {
      "text/plain": [
       "Index(['Gender', 'City', 'MembershipType', 'SatisfactionLevel'], dtype='object')"
      ]
     },
     "execution_count": 44,
     "metadata": {},
     "output_type": "execute_result"
    }
   ],
   "source": [
    "cat_cols"
   ]
  },
  {
   "cell_type": "code",
   "execution_count": 50,
   "id": "47509537",
   "metadata": {},
   "outputs": [
    {
     "name": "stdout",
     "output_type": "stream",
     "text": [
      "(10000, 12)\n",
      "Index(['CustomerID', 'Age', 'City', 'TotalSpend', 'ItemsPurchased',\n",
      "       'AverageRating', 'DiscountApplied', 'DaysSinceLastPurchase',\n",
      "       'SatisfactionLevel', 'Gender_Male', 'MembershipType_Gold',\n",
      "       'MembershipType_Silver'],\n",
      "      dtype='object')\n"
     ]
    }
   ],
   "source": [
    "cols = ['Gender', 'MembershipType']\n",
    "\n",
    "df_dum = pd.get_dummies(data=df,columns = cols, drop_first=True,dtype=int)\n",
    "print(df_dum.shape)\n",
    "print(df_dum.columns)"
   ]
  },
  {
   "cell_type": "code",
   "execution_count": 51,
   "id": "3225fc68",
   "metadata": {},
   "outputs": [
    {
     "data": {
      "text/plain": [
       "CustomerID                 int64\n",
       "Age                        int64\n",
       "City                      object\n",
       "TotalSpend               float64\n",
       "ItemsPurchased             int64\n",
       "AverageRating            float64\n",
       "DiscountApplied            int64\n",
       "DaysSinceLastPurchase      int64\n",
       "SatisfactionLevel         object\n",
       "Gender_Male                int32\n",
       "MembershipType_Gold        int32\n",
       "MembershipType_Silver      int32\n",
       "dtype: object"
      ]
     },
     "execution_count": 51,
     "metadata": {},
     "output_type": "execute_result"
    }
   ],
   "source": [
    "df_dum.dtypes"
   ]
  },
  {
   "cell_type": "markdown",
   "id": "690c0883",
   "metadata": {},
   "source": [
    "select x and y"
   ]
  },
  {
   "cell_type": "code",
   "execution_count": 66,
   "id": "3ac9080c",
   "metadata": {},
   "outputs": [],
   "source": [
    "df_dum['SatisfactionLevel'] = df_dum['SatisfactionLevel'].replace({'Satisfied':1,'Neutral':2,'Unsatisfied':3})"
   ]
  },
  {
   "cell_type": "code",
   "execution_count": 67,
   "id": "e54d5614",
   "metadata": {},
   "outputs": [
    {
     "name": "stdout",
     "output_type": "stream",
     "text": [
      "(10000, 9)\n",
      "(10000,)\n"
     ]
    }
   ],
   "source": [
    "x = df_dum.drop(['SatisfactionLevel','CustomerID','City'],axis=1)\n",
    "y = df_dum['SatisfactionLevel']\n",
    "print(x.shape)\n",
    "print(y.shape)"
   ]
  },
  {
   "cell_type": "code",
   "execution_count": 68,
   "id": "9fcd0f42",
   "metadata": {},
   "outputs": [
    {
     "data": {
      "text/plain": [
       "SatisfactionLevel\n",
       "1    3375\n",
       "2    3328\n",
       "3    3297\n",
       "Name: count, dtype: int64"
      ]
     },
     "execution_count": 68,
     "metadata": {},
     "output_type": "execute_result"
    }
   ],
   "source": [
    "y.value_counts()"
   ]
  },
  {
   "cell_type": "code",
   "execution_count": null,
   "id": "1359d6fc",
   "metadata": {},
   "outputs": [],
   "source": []
  },
  {
   "cell_type": "code",
   "execution_count": 53,
   "id": "118679a6",
   "metadata": {},
   "outputs": [],
   "source": [
    "from sklearn.model_selection import train_test_split"
   ]
  },
  {
   "cell_type": "code",
   "execution_count": 69,
   "id": "c6a29a83",
   "metadata": {},
   "outputs": [
    {
     "name": "stdout",
     "output_type": "stream",
     "text": [
      "(7000, 9)\n",
      "(3000, 9)\n",
      "(7000,)\n",
      "(3000,)\n"
     ]
    }
   ],
   "source": [
    "x_train,x_test,y_train,y_test = train_test_split(x,y,test_size=0.3,random_state=42)\n",
    "print(x_train.shape)\n",
    "print(x_test.shape)\n",
    "print(y_train.shape)\n",
    "print(y_test.shape)"
   ]
  },
  {
   "cell_type": "markdown",
   "id": "f664291f",
   "metadata": {},
   "source": [
    "Assumption Check: Multicollinearity(VIF)"
   ]
  },
  {
   "cell_type": "code",
   "execution_count": 70,
   "id": "4e3eeb1e",
   "metadata": {},
   "outputs": [],
   "source": [
    "from statsmodels.stats.outliers_influence import variance_inflation_factor"
   ]
  },
  {
   "cell_type": "code",
   "execution_count": 71,
   "id": "fcfb9f05",
   "metadata": {},
   "outputs": [
    {
     "data": {
      "text/html": [
       "<div>\n",
       "<style scoped>\n",
       "    .dataframe tbody tr th:only-of-type {\n",
       "        vertical-align: middle;\n",
       "    }\n",
       "\n",
       "    .dataframe tbody tr th {\n",
       "        vertical-align: top;\n",
       "    }\n",
       "\n",
       "    .dataframe thead th {\n",
       "        text-align: right;\n",
       "    }\n",
       "</style>\n",
       "<table border=\"1\" class=\"dataframe\">\n",
       "  <thead>\n",
       "    <tr style=\"text-align: right;\">\n",
       "      <th></th>\n",
       "      <th>Feature</th>\n",
       "      <th>VIF</th>\n",
       "    </tr>\n",
       "  </thead>\n",
       "  <tbody>\n",
       "    <tr>\n",
       "      <th>0</th>\n",
       "      <td>Age</td>\n",
       "      <td>6.206496</td>\n",
       "    </tr>\n",
       "    <tr>\n",
       "      <th>3</th>\n",
       "      <td>AverageRating</td>\n",
       "      <td>6.019194</td>\n",
       "    </tr>\n",
       "    <tr>\n",
       "      <th>2</th>\n",
       "      <td>ItemsPurchased</td>\n",
       "      <td>3.838151</td>\n",
       "    </tr>\n",
       "    <tr>\n",
       "      <th>1</th>\n",
       "      <td>TotalSpend</td>\n",
       "      <td>3.631302</td>\n",
       "    </tr>\n",
       "    <tr>\n",
       "      <th>5</th>\n",
       "      <td>DaysSinceLastPurchase</td>\n",
       "      <td>3.533764</td>\n",
       "    </tr>\n",
       "    <tr>\n",
       "      <th>6</th>\n",
       "      <td>Gender_Male</td>\n",
       "      <td>1.936817</td>\n",
       "    </tr>\n",
       "    <tr>\n",
       "      <th>8</th>\n",
       "      <td>MembershipType_Silver</td>\n",
       "      <td>1.934717</td>\n",
       "    </tr>\n",
       "    <tr>\n",
       "      <th>4</th>\n",
       "      <td>DiscountApplied</td>\n",
       "      <td>1.898083</td>\n",
       "    </tr>\n",
       "    <tr>\n",
       "      <th>7</th>\n",
       "      <td>MembershipType_Gold</td>\n",
       "      <td>1.891057</td>\n",
       "    </tr>\n",
       "  </tbody>\n",
       "</table>\n",
       "</div>"
      ],
      "text/plain": [
       "                 Feature       VIF\n",
       "0                    Age  6.206496\n",
       "3          AverageRating  6.019194\n",
       "2         ItemsPurchased  3.838151\n",
       "1             TotalSpend  3.631302\n",
       "5  DaysSinceLastPurchase  3.533764\n",
       "6            Gender_Male  1.936817\n",
       "8  MembershipType_Silver  1.934717\n",
       "4        DiscountApplied  1.898083\n",
       "7    MembershipType_Gold  1.891057"
      ]
     },
     "execution_count": 71,
     "metadata": {},
     "output_type": "execute_result"
    }
   ],
   "source": [
    "vif = pd.DataFrame()\n",
    "vif['Feature'] = x.columns\n",
    "vif['VIF'] = [variance_inflation_factor(x.values,i) for i in range(x.shape[1])]\n",
    "vif = vif.sort_values('VIF',ascending=False)\n",
    "vif"
   ]
  },
  {
   "cell_type": "code",
   "execution_count": 72,
   "id": "95cd6506",
   "metadata": {},
   "outputs": [],
   "source": [
    "from sklearn.metrics import *"
   ]
  },
  {
   "cell_type": "code",
   "execution_count": 73,
   "id": "f85be2cc",
   "metadata": {},
   "outputs": [],
   "source": [
    "def eval_model(model,x_train,x_test,y_train,y_test,mname):\n",
    "    model.fit(x_train,y_train)\n",
    "    ypred = model.predict(x_test)\n",
    "    print(classification_report(y_test,ypred))\n",
    "    train_acc = model.score(x_train,y_train)\n",
    "    test_acc = model.score(x_test,y_test)\n",
    "    \n",
    "    res = pd.DataFrame({'Train_Acc':train_acc,'test_Acc':test_acc\n",
    "                       },index=[mname])\n",
    "    return res, ypred"
   ]
  },
  {
   "cell_type": "markdown",
   "id": "43256361",
   "metadata": {},
   "source": [
    "LogReg Model"
   ]
  },
  {
   "cell_type": "code",
   "execution_count": 74,
   "id": "c06a9d7e",
   "metadata": {},
   "outputs": [],
   "source": [
    "from sklearn.linear_model import LogisticRegression"
   ]
  },
  {
   "cell_type": "code",
   "execution_count": 77,
   "id": "752ad28a",
   "metadata": {},
   "outputs": [
    {
     "name": "stdout",
     "output_type": "stream",
     "text": [
      "              precision    recall  f1-score   support\n",
      "\n",
      "           1       0.36      0.38      0.37      1045\n",
      "           2       0.34      0.36      0.35       987\n",
      "           3       0.32      0.28      0.30       968\n",
      "\n",
      "    accuracy                           0.34      3000\n",
      "   macro avg       0.34      0.34      0.34      3000\n",
      "weighted avg       0.34      0.34      0.34      3000\n",
      "\n"
     ]
    },
    {
     "data": {
      "text/html": [
       "<div>\n",
       "<style scoped>\n",
       "    .dataframe tbody tr th:only-of-type {\n",
       "        vertical-align: middle;\n",
       "    }\n",
       "\n",
       "    .dataframe tbody tr th {\n",
       "        vertical-align: top;\n",
       "    }\n",
       "\n",
       "    .dataframe thead th {\n",
       "        text-align: right;\n",
       "    }\n",
       "</style>\n",
       "<table border=\"1\" class=\"dataframe\">\n",
       "  <thead>\n",
       "    <tr style=\"text-align: right;\">\n",
       "      <th></th>\n",
       "      <th>Train_Acc</th>\n",
       "      <th>test_Acc</th>\n",
       "    </tr>\n",
       "  </thead>\n",
       "  <tbody>\n",
       "    <tr>\n",
       "      <th>LogReg1</th>\n",
       "      <td>0.347</td>\n",
       "      <td>0.341667</td>\n",
       "    </tr>\n",
       "  </tbody>\n",
       "</table>\n",
       "</div>"
      ],
      "text/plain": [
       "         Train_Acc  test_Acc\n",
       "LogReg1      0.347  0.341667"
      ]
     },
     "execution_count": 77,
     "metadata": {},
     "output_type": "execute_result"
    }
   ],
   "source": [
    "lr1 = LogisticRegression(max_iter=1000)\n",
    "lr1_res, ypred_lr1 = eval_model(lr1,x_train,x_test,y_train,y_test,'LogReg1')\n",
    "lr1_res"
   ]
  },
  {
   "cell_type": "code",
   "execution_count": 83,
   "id": "107cd52e",
   "metadata": {},
   "outputs": [],
   "source": [
    "from sklearn.tree import DecisionTreeClassifier"
   ]
  },
  {
   "cell_type": "code",
   "execution_count": 84,
   "id": "8845fbe0",
   "metadata": {},
   "outputs": [
    {
     "name": "stdout",
     "output_type": "stream",
     "text": [
      "              precision    recall  f1-score   support\n",
      "\n",
      "           1       0.34      0.35      0.35      1045\n",
      "           2       0.34      0.33      0.33       987\n",
      "           3       0.30      0.30      0.30       968\n",
      "\n",
      "    accuracy                           0.33      3000\n",
      "   macro avg       0.33      0.33      0.33      3000\n",
      "weighted avg       0.33      0.33      0.33      3000\n",
      "\n"
     ]
    },
    {
     "data": {
      "text/html": [
       "<div>\n",
       "<style scoped>\n",
       "    .dataframe tbody tr th:only-of-type {\n",
       "        vertical-align: middle;\n",
       "    }\n",
       "\n",
       "    .dataframe tbody tr th {\n",
       "        vertical-align: top;\n",
       "    }\n",
       "\n",
       "    .dataframe thead th {\n",
       "        text-align: right;\n",
       "    }\n",
       "</style>\n",
       "<table border=\"1\" class=\"dataframe\">\n",
       "  <thead>\n",
       "    <tr style=\"text-align: right;\">\n",
       "      <th></th>\n",
       "      <th>Train_Acc</th>\n",
       "      <th>test_Acc</th>\n",
       "    </tr>\n",
       "  </thead>\n",
       "  <tbody>\n",
       "    <tr>\n",
       "      <th>DT</th>\n",
       "      <td>1.0</td>\n",
       "      <td>0.327667</td>\n",
       "    </tr>\n",
       "  </tbody>\n",
       "</table>\n",
       "</div>"
      ],
      "text/plain": [
       "    Train_Acc  test_Acc\n",
       "DT        1.0  0.327667"
      ]
     },
     "execution_count": 84,
     "metadata": {},
     "output_type": "execute_result"
    }
   ],
   "source": [
    "dt1 = DecisionTreeClassifier()\n",
    "dt1_res, ypred_dt1 = eval_model(dt1,x_train,x_test,y_train,y_test,'DT')\n",
    "dt1_res"
   ]
  },
  {
   "cell_type": "code",
   "execution_count": 85,
   "id": "ae5f8a5f",
   "metadata": {},
   "outputs": [],
   "source": [
    "from sklearn.ensemble import RandomForestClassifier"
   ]
  },
  {
   "cell_type": "code",
   "execution_count": 88,
   "id": "9e1a099f",
   "metadata": {},
   "outputs": [
    {
     "name": "stdout",
     "output_type": "stream",
     "text": [
      "              precision    recall  f1-score   support\n",
      "\n",
      "           1       0.36      0.37      0.36      1045\n",
      "           2       0.33      0.33      0.33       987\n",
      "           3       0.33      0.32      0.33       968\n",
      "\n",
      "    accuracy                           0.34      3000\n",
      "   macro avg       0.34      0.34      0.34      3000\n",
      "weighted avg       0.34      0.34      0.34      3000\n",
      "\n"
     ]
    },
    {
     "data": {
      "text/html": [
       "<div>\n",
       "<style scoped>\n",
       "    .dataframe tbody tr th:only-of-type {\n",
       "        vertical-align: middle;\n",
       "    }\n",
       "\n",
       "    .dataframe tbody tr th {\n",
       "        vertical-align: top;\n",
       "    }\n",
       "\n",
       "    .dataframe thead th {\n",
       "        text-align: right;\n",
       "    }\n",
       "</style>\n",
       "<table border=\"1\" class=\"dataframe\">\n",
       "  <thead>\n",
       "    <tr style=\"text-align: right;\">\n",
       "      <th></th>\n",
       "      <th>Train_Acc</th>\n",
       "      <th>test_Acc</th>\n",
       "    </tr>\n",
       "  </thead>\n",
       "  <tbody>\n",
       "    <tr>\n",
       "      <th>RF</th>\n",
       "      <td>1.0</td>\n",
       "      <td>0.339667</td>\n",
       "    </tr>\n",
       "  </tbody>\n",
       "</table>\n",
       "</div>"
      ],
      "text/plain": [
       "    Train_Acc  test_Acc\n",
       "RF        1.0  0.339667"
      ]
     },
     "execution_count": 88,
     "metadata": {},
     "output_type": "execute_result"
    }
   ],
   "source": [
    "rf1 = RandomForestClassifier()\n",
    "rf1_res, ypred_rf1 = eval_model(rf1,x_train,x_test,y_train,y_test,'RF')\n",
    "rf1_res"
   ]
  },
  {
   "cell_type": "code",
   "execution_count": 87,
   "id": "5c9a576d",
   "metadata": {},
   "outputs": [],
   "source": [
    "from sklearn.ensemble import AdaBoostClassifier"
   ]
  },
  {
   "cell_type": "code",
   "execution_count": 89,
   "id": "9a611a03",
   "metadata": {},
   "outputs": [
    {
     "name": "stdout",
     "output_type": "stream",
     "text": [
      "              precision    recall  f1-score   support\n",
      "\n",
      "           1       0.34      0.35      0.34      1045\n",
      "           2       0.34      0.33      0.33       987\n",
      "           3       0.31      0.31      0.31       968\n",
      "\n",
      "    accuracy                           0.33      3000\n",
      "   macro avg       0.33      0.33      0.33      3000\n",
      "weighted avg       0.33      0.33      0.33      3000\n",
      "\n"
     ]
    },
    {
     "data": {
      "text/html": [
       "<div>\n",
       "<style scoped>\n",
       "    .dataframe tbody tr th:only-of-type {\n",
       "        vertical-align: middle;\n",
       "    }\n",
       "\n",
       "    .dataframe tbody tr th {\n",
       "        vertical-align: top;\n",
       "    }\n",
       "\n",
       "    .dataframe thead th {\n",
       "        text-align: right;\n",
       "    }\n",
       "</style>\n",
       "<table border=\"1\" class=\"dataframe\">\n",
       "  <thead>\n",
       "    <tr style=\"text-align: right;\">\n",
       "      <th></th>\n",
       "      <th>Train_Acc</th>\n",
       "      <th>test_Acc</th>\n",
       "    </tr>\n",
       "  </thead>\n",
       "  <tbody>\n",
       "    <tr>\n",
       "      <th>RF</th>\n",
       "      <td>0.379714</td>\n",
       "      <td>0.328667</td>\n",
       "    </tr>\n",
       "  </tbody>\n",
       "</table>\n",
       "</div>"
      ],
      "text/plain": [
       "    Train_Acc  test_Acc\n",
       "RF   0.379714  0.328667"
      ]
     },
     "execution_count": 89,
     "metadata": {},
     "output_type": "execute_result"
    }
   ],
   "source": [
    "ada1 = AdaBoostClassifier()\n",
    "ada1_res, ypred_ada1 = eval_model(ada1,x_train,x_test,y_train,y_test,'RF')\n",
    "ada1_res"
   ]
  },
  {
   "cell_type": "code",
   "execution_count": 90,
   "id": "a48fd96e",
   "metadata": {},
   "outputs": [],
   "source": [
    "y_pred = ada1.predict(x_test)"
   ]
  },
  {
   "cell_type": "code",
   "execution_count": 91,
   "id": "56459544",
   "metadata": {},
   "outputs": [
    {
     "data": {
      "text/plain": [
       "array([2, 3, 3, ..., 1, 3, 1], dtype=int64)"
      ]
     },
     "execution_count": 91,
     "metadata": {},
     "output_type": "execute_result"
    }
   ],
   "source": [
    "y_pred"
   ]
  },
  {
   "cell_type": "code",
   "execution_count": null,
   "id": "d014006e",
   "metadata": {},
   "outputs": [],
   "source": []
  }
 ],
 "metadata": {
  "kernelspec": {
   "display_name": "Python 3 (ipykernel)",
   "language": "python",
   "name": "python3"
  },
  "language_info": {
   "codemirror_mode": {
    "name": "ipython",
    "version": 3
   },
   "file_extension": ".py",
   "mimetype": "text/x-python",
   "name": "python",
   "nbconvert_exporter": "python",
   "pygments_lexer": "ipython3",
   "version": "3.11.5"
  }
 },
 "nbformat": 4,
 "nbformat_minor": 5
}
